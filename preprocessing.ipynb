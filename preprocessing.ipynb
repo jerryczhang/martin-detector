{
 "cells": [
  {
   "cell_type": "code",
   "execution_count": 1,
   "metadata": {},
   "outputs": [],
   "source": [
    "from PIL import Image\n",
    "import glob\n",
    "import torchvision.transforms as transforms\n",
    "import numpy as np\n",
    "import csv\n",
    "import os"
   ]
  },
  {
   "cell_type": "code",
   "execution_count": 2,
   "metadata": {},
   "outputs": [],
   "source": [
    "class MakeSquare:\n",
    "    \n",
    "    def __call__(self, image):\n",
    "        w, h = image.size\n",
    "        max_dim = max([w,h])\n",
    "        horz = (max_dim - w) / 2\n",
    "        vert = (max_dim - h) / 2\n",
    "        l_pad = int(np.ceil(horz))\n",
    "        r_pad = int(np.floor(horz))\n",
    "        t_pad = int(np.ceil(vert))\n",
    "        b_pad = int(np.floor(vert))\n",
    "        return transforms.functional.pad(image, (l_pad, t_pad, r_pad, b_pad))"
   ]
  },
  {
   "cell_type": "code",
   "execution_count": 13,
   "metadata": {},
   "outputs": [],
   "source": [
    "def get_transformed():\n",
    "    for cat in ['alex', 'brendan', 'ethan', 'jerry', 'jon', 'josh', 'martin', 'mitchell', 'speero']:\n",
    "        images = glob.glob(f'images/raw/{cat}/*.jpg')\n",
    "        loc = f'images/transformed/{cat}/'\n",
    "        if not os.path.exists(loc):\n",
    "            os.makedirs(loc)\n",
    "        for index, image in enumerate(images):\n",
    "            im = Image.open(image)\n",
    "            transform = transforms.Compose([\n",
    "                transforms.Resize(224),\n",
    "                transforms.CenterCrop(224)\n",
    "            ])\n",
    "            augment = transforms.Compose([\n",
    "                transforms.RandomRotation(10),\n",
    "                transforms.ColorJitter(brightness=0.5)\n",
    "            ])\n",
    "            transformed = transform(im)\n",
    "            transformed.save(f'{loc}{index}.jpg')\n",
    "            for aug_num in range(1, 10):\n",
    "                augmented = transform(augment(im))\n",
    "                augmented.save(f'{loc}{index + aug_num * len(images)}.jpg')"
   ]
  },
  {
   "cell_type": "code",
   "execution_count": 15,
   "metadata": {},
   "outputs": [],
   "source": [
    "def create_csv():\n",
    "    with open('train.csv', 'w') as csvfile:\n",
    "        writer = csv.writer(csvfile, lineterminator='\\n')\n",
    "        writer.writerow(['image', 'label'])\n",
    "        for index, cat in enumerate(['alex', 'brendan', 'ethan', 'jerry', 'jon', 'josh', 'martin', 'mitchell', 'speero']):\n",
    "            for image in glob.glob(f'images/transformed/{cat}/*.jpg'):\n",
    "                writer.writerow([image, index])"
   ]
  },
  {
   "cell_type": "code",
   "execution_count": 16,
   "metadata": {},
   "outputs": [],
   "source": [
    "get_transformed()"
   ]
  },
  {
   "cell_type": "code",
   "execution_count": 17,
   "metadata": {},
   "outputs": [],
   "source": [
    "create_csv()"
   ]
  },
  {
   "cell_type": "code",
   "execution_count": 13,
   "metadata": {},
   "outputs": [],
   "source": [
    "for image in glob.glob(f'images/transformed/*/*.jpg'):\n",
    "    if Image.open(image).size != (224, 224):\n",
    "        print(image)"
   ]
  },
  {
   "cell_type": "code",
   "execution_count": null,
   "metadata": {},
   "outputs": [],
   "source": []
  },
  {
   "cell_type": "code",
   "execution_count": null,
   "metadata": {},
   "outputs": [],
   "source": []
  }
 ],
 "metadata": {
  "kernelspec": {
   "display_name": "Python 3",
   "language": "python",
   "name": "python3"
  },
  "language_info": {
   "codemirror_mode": {
    "name": "ipython",
    "version": 3
   },
   "file_extension": ".py",
   "mimetype": "text/x-python",
   "name": "python",
   "nbconvert_exporter": "python",
   "pygments_lexer": "ipython3",
   "version": "3.7.4"
  }
 },
 "nbformat": 4,
 "nbformat_minor": 2
}
