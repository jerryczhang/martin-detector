{
 "cells": [
  {
   "cell_type": "code",
   "execution_count": 20,
   "metadata": {},
   "outputs": [],
   "source": [
    "from PIL import Image\n",
    "import glob\n",
    "import torchvision\n",
    "import numpy as np\n",
    "import csv\n",
    "import os"
   ]
  },
  {
   "cell_type": "code",
   "execution_count": 4,
   "metadata": {},
   "outputs": [],
   "source": [
    "def get_padding(image):\n",
    "    w, h = image.shape[0:2]\n",
    "    max_dim = max([w,h])\n",
    "    horz = (max_dim - w) / 2\n",
    "    vert = (max_dim - h) / 2\n",
    "    l_pad = int(np.ceil(horz))\n",
    "    r_pad = int(np.floor(horz))\n",
    "    t_pad = int(np.ceil(vert))\n",
    "    b_pad = int(np.floor(vert))\n",
    "    return (t_pad, r_pad, b_pad, l_pad)"
   ]
  },
  {
   "cell_type": "code",
   "execution_count": 14,
   "metadata": {},
   "outputs": [],
   "source": [
    "def get_transforms():\n",
    "    for cat in [\"other\", \"martin\"]:\n",
    "        images = glob.glob(f'images/raw/{cat}/*.jpg')\n",
    "        for index, image in enumerate(images):\n",
    "            im = Image.open(image)\n",
    "            imarray = np.array(im)\n",
    "            im_pad = torchvision.transforms.functional.pad(im, get_padding(imarray))\n",
    "            im_sized = torchvision.transforms.functional.resize(im_pad, 224)\n",
    "            im_sized.save(f'images/transformed/{cat}/{index}.jpg')"
   ]
  },
  {
   "cell_type": "code",
   "execution_count": 23,
   "metadata": {},
   "outputs": [],
   "source": [
    "with open('train.csv', 'w') as csvfile:\n",
    "    writer = csv.writer(csvfile)\n",
    "    writer.writerow(['image', 'label'])\n",
    "    for index, cat in enumerate([\"other\", \"martin\"]):\n",
    "        for image in glob.glob(f'images/transformed/{cat}/*.jpg'):\n",
    "            writer.writerow([index, image])\n",
    "\n",
    "    "
   ]
  },
  {
   "cell_type": "code",
   "execution_count": null,
   "metadata": {},
   "outputs": [],
   "source": []
  }
 ],
 "metadata": {
  "kernelspec": {
   "display_name": "Python 3",
   "language": "python",
   "name": "python3"
  },
  "language_info": {
   "codemirror_mode": {
    "name": "ipython",
    "version": 3
   },
   "file_extension": ".py",
   "mimetype": "text/x-python",
   "name": "python",
   "nbconvert_exporter": "python",
   "pygments_lexer": "ipython3",
   "version": "3.7.4"
  }
 },
 "nbformat": 4,
 "nbformat_minor": 2
}
